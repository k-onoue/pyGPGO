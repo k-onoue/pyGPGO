{
 "cells": [
  {
   "cell_type": "code",
   "execution_count": 1,
   "metadata": {},
   "outputs": [
    {
     "name": "stdout",
     "output_type": "stream",
     "text": [
      "PSD Matrix:\n",
      " tensor([[ 6.1761, -1.3650,  3.6816, -2.8672, -0.0192],\n",
      "        [-1.3650,  6.2892, -3.4966,  0.5021,  2.0294],\n",
      "        [ 3.6816, -3.4966,  8.2755, -0.4768, -3.0200],\n",
      "        [-2.8672,  0.5021, -0.4768,  2.0223, -0.3332],\n",
      "        [-0.0192,  2.0294, -3.0200, -0.3332,  8.0212]])\n",
      "\n",
      "Cholesky Factor:\n",
      " tensor([[ 2.4852,  0.0000,  0.0000,  0.0000,  0.0000],\n",
      "        [-0.5493,  2.4469,  0.0000,  0.0000,  0.0000],\n",
      "        [ 1.4814, -1.0964,  2.2088,  0.0000,  0.0000],\n",
      "        [-1.1537, -0.0538,  0.5313,  0.6373,  0.0000],\n",
      "        [-0.0077,  0.8276, -0.9513,  0.3260,  2.5150]])\n",
      "\n",
      "Reconstructed Matrix:\n",
      " tensor([[ 6.1761, -1.3650,  3.6816, -2.8672, -0.0192],\n",
      "        [-1.3650,  6.2892, -3.4966,  0.5021,  2.0294],\n",
      "        [ 3.6816, -3.4966,  8.2755, -0.4768, -3.0200],\n",
      "        [-2.8672,  0.5021, -0.4768,  2.0223, -0.3332],\n",
      "        [-0.0192,  2.0294, -3.0200, -0.3332,  8.0212]])\n"
     ]
    }
   ],
   "source": [
    "import torch\n",
    "\n",
    "from linear_operator.utils.cholesky import psd_safe_cholesky\n",
    "\n",
    "\n",
    "# ランダムな対称半正定値行列を作成する関数\n",
    "def create_psd_matrix(n, eps=1e-6):\n",
    "    # ランダム行列を生成\n",
    "    A = torch.randn(n, n)\n",
    "    # 行列を転置したものと掛け合わせて対称な半正定値行列を作成\n",
    "    psd_matrix = A @ A.T\n",
    "    # 安定性を確保するために、対角成分に小さな値を足して調整\n",
    "    psd_matrix += eps * torch.eye(n)\n",
    "    return psd_matrix\n",
    "\n",
    "# 行列サイズ\n",
    "n = 5\n",
    "\n",
    "# 半正定値行列を生成\n",
    "psd_matrix = create_psd_matrix(n)\n",
    "print(\"PSD Matrix:\\n\", psd_matrix)\n",
    "\n",
    "# psd_safe_choleskyでコレスキー分解を実行\n",
    "cholesky_factor = psd_safe_cholesky(psd_matrix)\n",
    "print(\"\\nCholesky Factor:\\n\", cholesky_factor)\n",
    "\n",
    "# コレスキー因子の確認 (元の行列に戻るか)\n",
    "reconstructed_matrix = cholesky_factor @ cholesky_factor.T\n",
    "print(\"\\nReconstructed Matrix:\\n\", reconstructed_matrix)"
   ]
  },
  {
   "cell_type": "code",
   "execution_count": null,
   "metadata": {},
   "outputs": [],
   "source": []
  },
  {
   "cell_type": "code",
   "execution_count": null,
   "metadata": {},
   "outputs": [],
   "source": []
  },
  {
   "cell_type": "code",
   "execution_count": null,
   "metadata": {},
   "outputs": [],
   "source": []
  },
  {
   "cell_type": "code",
   "execution_count": null,
   "metadata": {},
   "outputs": [],
   "source": []
  },
  {
   "cell_type": "code",
   "execution_count": null,
   "metadata": {},
   "outputs": [],
   "source": []
  },
  {
   "cell_type": "code",
   "execution_count": null,
   "metadata": {},
   "outputs": [],
   "source": []
  }
 ],
 "metadata": {
  "kernelspec": {
   "display_name": ".venv",
   "language": "python",
   "name": "python3"
  },
  "language_info": {
   "codemirror_mode": {
    "name": "ipython",
    "version": 3
   },
   "file_extension": ".py",
   "mimetype": "text/x-python",
   "name": "python",
   "nbconvert_exporter": "python",
   "pygments_lexer": "ipython3",
   "version": "3.12.7"
  }
 },
 "nbformat": 4,
 "nbformat_minor": 2
}
